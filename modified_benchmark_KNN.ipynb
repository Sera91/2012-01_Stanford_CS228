{
  "cells": [
    {
      "cell_type": "markdown",
      "metadata": {
        "id": "view-in-github",
        "colab_type": "text"
      },
      "source": [
        "<a href=\"https://colab.research.google.com/github/Sera91/2012-01_Stanford_CS228/blob/master/modified_benchmark_KNN.ipynb\" target=\"_parent\"><img src=\"https://colab.research.google.com/assets/colab-badge.svg\" alt=\"Open In Colab\"/></a>"
      ]
    },
    {
      "cell_type": "markdown",
      "metadata": {
        "id": "VgPCB3FrtnuP"
      },
      "source": [
        "\n",
        "# K-Nearest Neighbors search\n",
        "\n",
        "We compare the performances of PyTorch, JAX, KeOps, Scikit-Learn and FAISS (when applicable)\n",
        "for K-NN queries on random samples and standard datasets.\n",
        "A detailed discussion of these results can be found in Section 5.2\n",
        "of our [NeurIPS 2020 paper](https://www.jeanfeydy.com/Papers/KeOps_NeurIPS_2020.pdf).\n",
        "Generally speaking, generic KeOps routines are orders\n",
        "of magnitude faster and more memory efficient than\n",
        "their PyTorch and JAX counterparts.\n",
        "They perform on par\n",
        "with the handcrafted CUDA kernels of the FAISS-Flat (bruteforce) method for problems\n",
        "with **up to 1M samples in dimension 1 to 50-100**,\n",
        "but are sub-optimal on larger datasets.\n",
        "Crucially, KeOps is easy to use with **any metric**:\n",
        "it provides the only competitive run times in the many settings\n",
        "that are not supported by existing C++ libraries.\n",
        "\n",
        "In this demo, we often use exact **bruteforce** computations\n",
        "(tensorized for PyTorch/JAX, on-the-fly for KeOps) and do not leverage any\n",
        "quantization scheme or multiscale\n",
        "decomposition of the distance matrix.\n",
        "First support for these approximation strategies with KeOps is scheduled for\n",
        "May-June 2021. Going forward, a major priority for KeOps\n",
        "is to get closer to the reference run times of the FAISS library\n",
        "in all settings.\n",
        "We intend to provide a versatile, generic and pythonic code that is easy to\n",
        "modify and integrate in other projects.\n",
        "Hopefully, this will **stimulate research on non-Euclidean metrics**,\n",
        "such as hyperbolic or discrete spaces.\n",
        "\n",
        "<div class=\"alert alert-info\"><h4>Note</h4><p>Note that timings are always subject to change:\n",
        "    libraries and hardware get better with time.\n",
        "    If you find a way of improving these benchmarks, please\n",
        "    [let us know](https://github.com/getkeops/keops/issues)!</p></div>\n",
        "\n"
      ]
    },
    {
      "cell_type": "markdown",
      "metadata": {
        "id": "H_uKc4s-tnuS"
      },
      "source": [
        "## Setup\n",
        "\n",
        "First, we load some utility routines to run and display benchmarks:\n",
        "\n"
      ]
    },
    {
      "cell_type": "code",
      "source": [
        "!pip install si_prefix"
      ],
      "metadata": {
        "colab": {
          "base_uri": "https://localhost:8080/"
        },
        "id": "6Ie2bJvpuFw6",
        "outputId": "0b204798-ab2b-44fe-eab8-10ce8048d3e1"
      },
      "execution_count": 1,
      "outputs": [
        {
          "output_type": "stream",
          "name": "stdout",
          "text": [
            "Collecting si_prefix\n",
            "  Downloading si_prefix-1.3.3-py3-none-any.whl.metadata (2.1 kB)\n",
            "Downloading si_prefix-1.3.3-py3-none-any.whl (6.4 kB)\n",
            "Installing collected packages: si_prefix\n",
            "Successfully installed si_prefix-1.3.3\n"
          ]
        }
      ]
    },
    {
      "cell_type": "code",
      "source": [
        "!pip install multiprocess"
      ],
      "metadata": {
        "colab": {
          "base_uri": "https://localhost:8080/"
        },
        "id": "HzgHQOXb0R_c",
        "outputId": "ea157148-a01c-427e-aad7-555b48145ab2"
      },
      "execution_count": 2,
      "outputs": [
        {
          "output_type": "stream",
          "name": "stdout",
          "text": [
            "Collecting multiprocess\n",
            "  Downloading multiprocess-0.70.17-py311-none-any.whl.metadata (7.2 kB)\n",
            "Collecting dill>=0.3.9 (from multiprocess)\n",
            "  Downloading dill-0.3.9-py3-none-any.whl.metadata (10 kB)\n",
            "Downloading multiprocess-0.70.17-py311-none-any.whl (144 kB)\n",
            "\u001b[?25l   \u001b[90m━━━━━━━━━━━━━━━━━━━━━━━━━━━━━━━━━━━━━━━━\u001b[0m \u001b[32m0.0/144.3 kB\u001b[0m \u001b[31m?\u001b[0m eta \u001b[36m-:--:--\u001b[0m\r\u001b[2K   \u001b[91m━━━━━━━━━━━━━━━━━━━━━━━━━━━━━━━━━━━━━━━\u001b[0m\u001b[91m╸\u001b[0m \u001b[32m143.4/144.3 kB\u001b[0m \u001b[31m6.0 MB/s\u001b[0m eta \u001b[36m0:00:01\u001b[0m\r\u001b[2K   \u001b[90m━━━━━━━━━━━━━━━━━━━━━━━━━━━━━━━━━━━━━━━━\u001b[0m \u001b[32m144.3/144.3 kB\u001b[0m \u001b[31m3.8 MB/s\u001b[0m eta \u001b[36m0:00:00\u001b[0m\n",
            "\u001b[?25hDownloading dill-0.3.9-py3-none-any.whl (119 kB)\n",
            "\u001b[?25l   \u001b[90m━━━━━━━━━━━━━━━━━━━━━━━━━━━━━━━━━━━━━━━━\u001b[0m \u001b[32m0.0/119.4 kB\u001b[0m \u001b[31m?\u001b[0m eta \u001b[36m-:--:--\u001b[0m\r\u001b[2K   \u001b[90m━━━━━━━━━━━━━━━━━━━━━━━━━━━━━━━━━━━━━━━━\u001b[0m \u001b[32m119.4/119.4 kB\u001b[0m \u001b[31m10.5 MB/s\u001b[0m eta \u001b[36m0:00:00\u001b[0m\n",
            "\u001b[?25hInstalling collected packages: dill, multiprocess\n",
            "Successfully installed dill-0.3.9 multiprocess-0.70.17\n"
          ]
        }
      ]
    },
    {
      "cell_type": "code",
      "source": [
        "!pip install pykeops"
      ],
      "metadata": {
        "colab": {
          "base_uri": "https://localhost:8080/"
        },
        "id": "29pPJHx11YNs",
        "outputId": "a7f31bd7-1586-4509-9559-c16ce6198ebe"
      },
      "execution_count": 5,
      "outputs": [
        {
          "output_type": "stream",
          "name": "stdout",
          "text": [
            "Collecting pykeops\n",
            "  Downloading pykeops-2.2.3.tar.gz (92 kB)\n",
            "\u001b[?25l     \u001b[90m━━━━━━━━━━━━━━━━━━━━━━━━━━━━━━━━━━━━━━━━\u001b[0m \u001b[32m0.0/92.5 kB\u001b[0m \u001b[31m?\u001b[0m eta \u001b[36m-:--:--\u001b[0m\r\u001b[2K     \u001b[90m━━━━━━━━━━━━━━━━━━━━━━━━━━━━━━━━━━━━━━━━\u001b[0m \u001b[32m92.5/92.5 kB\u001b[0m \u001b[31m2.9 MB/s\u001b[0m eta \u001b[36m0:00:00\u001b[0m\n",
            "\u001b[?25h  Preparing metadata (setup.py) ... \u001b[?25l\u001b[?25hdone\n",
            "Requirement already satisfied: numpy in /usr/local/lib/python3.11/dist-packages (from pykeops) (1.26.4)\n",
            "Collecting pybind11 (from pykeops)\n",
            "  Downloading pybind11-2.13.6-py3-none-any.whl.metadata (9.5 kB)\n",
            "Collecting keopscore==2.2.3 (from pykeops)\n",
            "  Downloading keopscore-2.2.3.tar.gz (100 kB)\n",
            "\u001b[2K     \u001b[90m━━━━━━━━━━━━━━━━━━━━━━━━━━━━━━━━━━━━━━━━\u001b[0m \u001b[32m100.3/100.3 kB\u001b[0m \u001b[31m4.4 MB/s\u001b[0m eta \u001b[36m0:00:00\u001b[0m\n",
            "\u001b[?25h  Preparing metadata (setup.py) ... \u001b[?25l\u001b[?25hdone\n",
            "Downloading pybind11-2.13.6-py3-none-any.whl (243 kB)\n",
            "\u001b[2K   \u001b[90m━━━━━━━━━━━━━━━━━━━━━━━━━━━━━━━━━━━━━━━━\u001b[0m \u001b[32m243.3/243.3 kB\u001b[0m \u001b[31m11.6 MB/s\u001b[0m eta \u001b[36m0:00:00\u001b[0m\n",
            "\u001b[?25hBuilding wheels for collected packages: pykeops, keopscore\n",
            "  Building wheel for pykeops (setup.py) ... \u001b[?25l\u001b[?25hdone\n",
            "  Created wheel for pykeops: filename=pykeops-2.2.3-py3-none-any.whl size=118636 sha256=96745bbfe4998ad1fe00571857b263eb0e03d26533e26d788dfa0273ea3478e7\n",
            "  Stored in directory: /root/.cache/pip/wheels/87/7c/b7/bf0e0c414ec6a9cb57d4f638c98e651f4cc115d3bdcecd1bff\n",
            "  Building wheel for keopscore (setup.py) ... \u001b[?25l\u001b[?25hdone\n",
            "  Created wheel for keopscore: filename=keopscore-2.2.3-py3-none-any.whl size=172483 sha256=9a123e055d7a046be9f22da1a4f44d7fff8f261e37485c4d9e25634398f3e46f\n",
            "  Stored in directory: /root/.cache/pip/wheels/4f/30/66/e08e82125e978761a47296a42998557febc34b08c52b5c8f88\n",
            "Successfully built pykeops keopscore\n",
            "Installing collected packages: pybind11, keopscore, pykeops\n",
            "Successfully installed keopscore-2.2.3 pybind11-2.13.6 pykeops-2.2.3\n"
          ]
        }
      ]
    },
    {
      "cell_type": "code",
      "execution_count": 6,
      "metadata": {
        "colab": {
          "base_uri": "https://localhost:8080/"
        },
        "id": "NByDZ6TRtnuT",
        "outputId": "da1b17cf-ef23-412f-820e-883a8b651d92"
      },
      "outputs": [
        {
          "output_type": "stream",
          "name": "stdout",
          "text": [
            "[KeOps] Compiling cuda jit compiler engine ... OK\n",
            "[pyKeOps] Compiling nvrtc binder for python ... OK\n"
          ]
        }
      ],
      "source": [
        "import numpy as np\n",
        "import torch\n",
        "from matplotlib import pyplot as plt\n",
        "from functools import partial\n",
        "from benchmark_utils import (\n",
        "    full_benchmark,\n",
        "    timer,\n",
        "    tensor,\n",
        "    int_tensor,\n",
        "    jax_tensor,\n",
        "    globalize,\n",
        ")\n",
        "from dataset_utils import generate_samples\n",
        "\n",
        "use_cuda = torch.cuda.is_available()"
      ]
    },
    {
      "cell_type": "markdown",
      "metadata": {
        "id": "SGONwMKZtnuU"
      },
      "source": [
        "We then specify the values of K that we will inspect:\n",
        "\n"
      ]
    },
    {
      "cell_type": "code",
      "execution_count": 7,
      "metadata": {
        "id": "hbjZQ6_qtnuV"
      },
      "outputs": [],
      "source": [
        "Ks = [1, 10, 50, 100]  # Numbers of neighbors to find"
      ]
    },
    {
      "cell_type": "markdown",
      "metadata": {
        "id": "Jzj3SFvttnuV"
      },
      "source": [
        "## PyTorch bruteforce implementation\n",
        "\n",
        "As a first baseline, we benchmark a PyTorch K-NN routine on the GPU.\n",
        "We implement a collection of distance-like matrices between\n",
        "point clouds $(x_i)$ and $(y_j)$:\n",
        "\n",
        "- The squared **Euclidean** distance $\\|x-y\\|^2 = \\sum_k (x[k] - y[k])^2$.\n",
        "- The **Manhattan** distance $\\|x-y\\|_{L^1} = \\sum_k |x[k] - y[k]|$.\n",
        "- The **cosine similarity** $\\langle x, y\\rangle = \\sum_k (x[k] \\cdot y[k])$.\n",
        "- The **hyperbolic** distance on the Poincare half-space $\\mathbb{H}$\n",
        "  of vectors $x$ such that $x[0] > 0$,\n",
        "  $\\text{d}_{\\mathbb{H}}(x, y)= \\text{arcosh}(1+ \\|x-y\\|^2 / (2 \\,x[0]y[0]))$.\n",
        "  Since $d \\mapsto \\text{arcosh}(1+d/2)$ is increasing,\n",
        "  we only compute the pseudo distance\n",
        "  $\\|x-y\\|^2 / x[0]y[0]$.\n",
        "\n",
        "<div class=\"alert alert-info\"><h4>Note</h4><p>Expanding the squared norm $\\|x-y\\|^2$ as a sum\n",
        "  $\\|x\\|^2 - 2 \\langle x, y \\rangle + \\|y\\|^2$ allows us\n",
        "  to leverage the fast matrix-matrix product of the BLAS/cuBLAS\n",
        "  libraries. We rely on this identity whenever possible.</p></div>\n",
        "\n",
        "\n"
      ]
    },
    {
      "cell_type": "code",
      "execution_count": 8,
      "metadata": {
        "id": "DwrNbsK6tnuV"
      },
      "outputs": [],
      "source": [
        "def KNN_torch_fun(x_train, x_train_norm, x_test, K, metric):\n",
        "    largest = False  # Default behaviour is to look for the smallest values\n",
        "\n",
        "    if metric == \"euclidean\":\n",
        "        x_test_norm = (x_test**2).sum(-1)\n",
        "        diss = (\n",
        "            x_test_norm.view(-1, 1)\n",
        "            + x_train_norm.view(1, -1)\n",
        "            - 2 * x_test @ x_train.t()  # Rely on cuBLAS for better performance!\n",
        "        )\n",
        "\n",
        "    elif metric == \"manhattan\":\n",
        "        diss = (x_test[:, None, :] - x_train[None, :, :]).abs().sum(dim=2)\n",
        "\n",
        "    elif metric == \"angular\":\n",
        "        diss = x_test @ x_train.t()\n",
        "        largest = True\n",
        "\n",
        "    elif metric == \"hyperbolic\":\n",
        "        x_test_norm = (x_test**2).sum(-1)\n",
        "        diss = (\n",
        "            x_test_norm.view(-1, 1)\n",
        "            + x_train_norm.view(1, -1)\n",
        "            - 2 * x_test @ x_train.t()\n",
        "        )\n",
        "        diss /= x_test[:, 0].view(-1, 1) * x_train[:, 0].view(1, -1)\n",
        "    else:\n",
        "        raise NotImplementedError(f\"The '{metric}' distance is not supported.\")\n",
        "\n",
        "    return diss.topk(K, dim=1, largest=largest).indices"
      ]
    },
    {
      "cell_type": "markdown",
      "metadata": {
        "id": "JL_KM11RtnuW"
      },
      "source": [
        "We rely on the **tensorized**\n",
        "implementation above to define a simple K-NN query operator.\n",
        "We follow the scikit-learn API with \"train\" and \"test\" methods:\n",
        "\n"
      ]
    },
    {
      "cell_type": "code",
      "execution_count": 9,
      "metadata": {
        "id": "c995P2PhtnuW"
      },
      "outputs": [],
      "source": [
        "def KNN_torch(K, metric=\"euclidean\", **kwargs):\n",
        "    def fit(x_train):\n",
        "        # Setup the K-NN estimator:\n",
        "        x_train = tensor(x_train)\n",
        "        start = timer()\n",
        "        # The \"training\" time here should be negligible:\n",
        "        x_train_norm = (x_train**2).sum(-1)\n",
        "        elapsed = timer() - start\n",
        "\n",
        "        def f(x_test):\n",
        "            x_test = tensor(x_test)\n",
        "            start = timer()\n",
        "\n",
        "            # Actual K-NN query:\n",
        "            out = KNN_torch_fun(x_train, x_train_norm, x_test, K, metric)\n",
        "\n",
        "            elapsed = timer() - start\n",
        "            indices = out.cpu().numpy()\n",
        "            return indices, elapsed\n",
        "\n",
        "        return f, elapsed\n",
        "\n",
        "    return fit"
      ]
    },
    {
      "cell_type": "markdown",
      "metadata": {
        "id": "S8jjgNDVtnuW"
      },
      "source": [
        "Unfortunately, the code above creates a full\n",
        "$\\mathrm{N}_{\\text{queries}}\\times \\mathrm{N}_{\\text{points}}$\n",
        "distance matrix that may not fit in the GPU memory.\n",
        "To work around this problem and avoid memory overflows, we benchmark a second implementation\n",
        "that works with small batches of queries at time:\n",
        "\n"
      ]
    },
    {
      "cell_type": "code",
      "execution_count": 10,
      "metadata": {
        "id": "njdL70fGtnuW"
      },
      "outputs": [],
      "source": [
        "def KNN_torch_batch_loop(K, metric=\"euclidean\", **kwargs):\n",
        "    def fit(x_train):\n",
        "        # Setup the K-NN estimator:\n",
        "        x_train = tensor(x_train)\n",
        "        Ntrain, D = x_train.shape\n",
        "        start = timer()\n",
        "        # The \"training\" time here should be negligible:\n",
        "        x_train_norm = (x_train**2).sum(-1)\n",
        "        elapsed = timer() - start\n",
        "\n",
        "        def f(x_test):\n",
        "            x_test = tensor(x_test)\n",
        "\n",
        "            # Estimate the largest reasonable batch size:\n",
        "            Ntest = x_test.shape[0]\n",
        "            av_mem = int(5e8)  # 500 Mb of GPU memory per batch\n",
        "            # Remember that a vector of D float32 number takes up 4*D bytes:\n",
        "            Ntest_loop = min(max(1, av_mem // (4 * D * Ntrain)), Ntest)\n",
        "            Nloop = (Ntest - 1) // Ntest_loop + 1\n",
        "            out = int_tensor(Ntest, K)\n",
        "\n",
        "            start = timer()\n",
        "            # Actual K-NN query:\n",
        "            for k in range(Nloop):\n",
        "                x_test_k = x_test[Ntest_loop * k : Ntest_loop * (k + 1), :]\n",
        "                out[Ntest_loop * k : Ntest_loop * (k + 1), :] = KNN_torch_fun(\n",
        "                    x_train, x_train_norm, x_test_k, K, metric\n",
        "                )\n",
        "\n",
        "            # torch.cuda.empty_cache()\n",
        "\n",
        "            elapsed = timer() - start\n",
        "            indices = out.cpu().numpy()\n",
        "            return indices, elapsed\n",
        "\n",
        "        return f, elapsed\n",
        "\n",
        "    return fit"
      ]
    },
    {
      "cell_type": "markdown",
      "metadata": {
        "id": "Y1FTNpEztnuX"
      },
      "source": [
        "## JAX bruteforce implementation\n",
        "\n",
        "We now re-implement the same method with JAX-XLA routines.\n",
        "\n",
        "Note that we run this script with the command line option\n",
        "``XLA_PYTHON_CLIENT_ALLOCATOR=platform``: this prevents JAX\n",
        "from locking up GPU memory and allows\n",
        "us to benchmark JAX, FAISS, PyTorch and KeOps next to each other.\n",
        "This may impact performances - but as a general rule,\n",
        "we found JAX to be orders of magnitude slower than PyTorch\n",
        "and KeOps in these benchmarks, even with unrestrained access to the GPU device memory.\n",
        "Needless to say, this is subject to change with future releases:\n",
        "we stay tuned to keep this documentation up to date and welcome\n",
        "all suggestions!\n",
        "\n"
      ]
    },
    {
      "cell_type": "code",
      "execution_count": 11,
      "metadata": {
        "id": "h87Hpm0dtnuX"
      },
      "outputs": [],
      "source": [
        "from functools import partial\n",
        "import jax\n",
        "import jax.numpy as jnp\n",
        "\n",
        "\n",
        "@partial(jax.jit, static_argnums=(2, 3))\n",
        "def knn_jax_fun(x_train, x_test, K, metric):\n",
        "    if metric == \"euclidean\":\n",
        "        diss = (\n",
        "            (x_test**2).sum(-1)[:, None]\n",
        "            + (x_train**2).sum(-1)[None, :]\n",
        "            - 2 * x_test @ x_train.T\n",
        "        )\n",
        "\n",
        "    elif metric == \"manhattan\":\n",
        "        diss = jax.lax.abs(x_test[:, None, :] - x_train[None, :, :]).sum(-1)\n",
        "\n",
        "    elif metric == \"angular\":\n",
        "        diss = -x_test @ x_train.T\n",
        "\n",
        "    elif metric == \"hyperbolic\":\n",
        "        diss = (\n",
        "            (x_test**2).sum(-1)[:, None]\n",
        "            + (x_train**2).sum(-1)[None, :]\n",
        "            - 2 * x_test @ x_train.T\n",
        "        )\n",
        "        diss = diss / (x_test[:, 0][:, None] * x_train[:, 0][None, :])\n",
        "\n",
        "    else:\n",
        "        raise NotImplementedError(f\"The '{metric}' distance is not supported.\")\n",
        "\n",
        "    indices = jax.lax.top_k(-diss, K)[1]\n",
        "    return indices"
      ]
    },
    {
      "cell_type": "markdown",
      "metadata": {
        "id": "z3ITOCtNtnuY"
      },
      "source": [
        "Straightforward K-NN query, with a scikit-learn interface:\n",
        "\n"
      ]
    },
    {
      "cell_type": "code",
      "execution_count": 13,
      "metadata": {
        "id": "couXiz4ytnuY"
      },
      "outputs": [],
      "source": [
        "def KNN_JAX(K, metric=\"euclidean\", **kwargs):\n",
        "    def fit(x_train):\n",
        "        # Setup the K-NN estimator:\n",
        "        start = timer(use_torch=False)\n",
        "        x_train = jax_tensor(x_train)\n",
        "        elapsed = timer(use_torch=False) - start\n",
        "\n",
        "        def f(x_test):\n",
        "            x_test = jax_tensor(x_test)\n",
        "\n",
        "            # Actual K-NN query:\n",
        "            start = timer(use_torch=False)\n",
        "            indices = knn_jax_fun(x_train, x_test, K, metric)\n",
        "            indices = np.array(indices)\n",
        "            elapsed = timer(use_torch=False) - start\n",
        "            return indices, elapsed\n",
        "\n",
        "        return f, elapsed\n",
        "\n",
        "    return fit"
      ]
    },
    {
      "cell_type": "markdown",
      "metadata": {
        "id": "IxnoYWrytnuY"
      },
      "source": [
        "Smarter routine, which relies on small batches to avoid memory overflows:\n",
        "\n"
      ]
    },
    {
      "cell_type": "code",
      "execution_count": 12,
      "metadata": {
        "id": "ekha-9ljtnuY"
      },
      "outputs": [],
      "source": [
        "def KNN_JAX_batch_loop(K, metric=\"euclidean\", **kwargs):\n",
        "    def fit(x_train):\n",
        "        # Setup the K-NN estimator:\n",
        "        start = timer(use_torch=False)\n",
        "        x_train = jax_tensor(x_train)\n",
        "        elapsed = timer(use_torch=False) - start\n",
        "\n",
        "        def f(x_test):\n",
        "            x_test = jax_tensor(x_test)\n",
        "\n",
        "            # Estimate the largest reasonable batch size\n",
        "            av_mem = int(5e8)  # 500 Mb\n",
        "            Ntrain, D = x_train.shape\n",
        "            Ntest = x_test.shape[0]\n",
        "            Ntest_loop = min(max(1, av_mem // (4 * D * Ntrain)), Ntest)\n",
        "            Nloop = (Ntest - 1) // Ntest_loop + 1\n",
        "            indices = np.zeros((Ntest, K), dtype=int)\n",
        "\n",
        "            start = timer(use_torch=False)\n",
        "            # Actual K-NN query:\n",
        "            for k in range(Nloop):\n",
        "                x_test_k = x_test[Ntest_loop * k : Ntest_loop * (k + 1), :]\n",
        "                indices[Ntest_loop * k : Ntest_loop * (k + 1), :] = knn_jax_fun(\n",
        "                    x_train, x_test_k, K, metric\n",
        "                )\n",
        "            elapsed = timer(use_torch=False) - start\n",
        "            return indices, elapsed\n",
        "\n",
        "        return f, elapsed\n",
        "\n",
        "    return fit"
      ]
    },
    {
      "cell_type": "markdown",
      "metadata": {
        "id": "fNdQqqDItnuZ"
      },
      "source": [
        "## KeOps bruteforce implementation\n",
        "\n",
        "KeOps lets us implement a bruteforce K-NN search efficiently,\n",
        "**without having to worry about memory overflows**.\n",
        "We perform all the \"symbolic\" computations on the distance formulas\n",
        "ahead of time, using the advanced ``Vi`` and ``Vj`` helpers that are described\n",
        "in [this tutorial](../_auto_tutorials/a_LazyTensors/plot_lazytensors_c.html).\n",
        "Note that we could also rely on the simpler ``LazyTensor`` syntax,\n",
        "at the cost of a small overhead that is negligible in most settings.\n",
        "\n"
      ]
    },
    {
      "cell_type": "code",
      "execution_count": 14,
      "metadata": {
        "id": "DGOhFGKttnuZ"
      },
      "outputs": [],
      "source": [
        "from pykeops.torch import Vi, Vj\n",
        "\n",
        "\n",
        "def KNN_KeOps(K, metric=\"euclidean\", **kwargs):\n",
        "    def fit(x_train):\n",
        "        # Setup the K-NN estimator:\n",
        "        x_train = tensor(x_train)\n",
        "        start = timer()\n",
        "\n",
        "        # Encoding as KeOps LazyTensors:\n",
        "        D = x_train.shape[1]\n",
        "        X_i = Vi(0, D)  # Purely symbolic \"i\" variable, without any data array\n",
        "        X_j = Vj(1, D)  # Purely symbolic \"j\" variable, without any data array\n",
        "\n",
        "        # Symbolic distance matrix:\n",
        "        if metric == \"euclidean\":\n",
        "            D_ij = ((X_i - X_j) ** 2).sum(-1)\n",
        "        elif metric == \"manhattan\":\n",
        "            D_ij = (X_i - X_j).abs().sum(-1)\n",
        "        elif metric == \"angular\":\n",
        "            D_ij = -(X_i | X_j)\n",
        "        elif metric == \"hyperbolic\":\n",
        "            D_ij = ((X_i - X_j) ** 2).sum(-1) / (X_i[0] * X_j[0])\n",
        "        else:\n",
        "            raise NotImplementedError(f\"The '{metric}' distance is not supported.\")\n",
        "\n",
        "        # K-NN query operator:\n",
        "        KNN_fun = D_ij.argKmin(K, dim=1)\n",
        "\n",
        "        # N.B.: The \"training\" time here should be negligible.\n",
        "        elapsed = timer() - start\n",
        "\n",
        "        def f(x_test):\n",
        "            x_test = tensor(x_test)\n",
        "            start = timer()\n",
        "\n",
        "            # Actual K-NN query:\n",
        "            indices = KNN_fun(x_test, x_train)\n",
        "\n",
        "            elapsed = timer() - start\n",
        "\n",
        "            indices = indices.cpu().numpy()\n",
        "            return indices, elapsed\n",
        "\n",
        "        return f, elapsed\n",
        "\n",
        "    return fit"
      ]
    },
    {
      "cell_type": "markdown",
      "metadata": {
        "id": "j8EBXiIRtnuZ"
      },
      "source": [
        "## SciKit-Learn tree-based and bruteforce methods\n",
        "\n",
        "As a standard baseline, we include the scikit-learn K-NN operators\n",
        "in our benchmark. Note that these routines only run on the CPU\n",
        "and don't perform well on high-dimensional datasets:\n",
        "\n"
      ]
    },
    {
      "cell_type": "code",
      "execution_count": 15,
      "metadata": {
        "id": "58BcROeOtnuZ"
      },
      "outputs": [],
      "source": [
        "from sklearn.neighbors import NearestNeighbors\n",
        "\n",
        "\n",
        "def KNN_sklearn(K, metric=\"euclidean\", algorithm=None, **kwargs):\n",
        "    if metric in [\"euclidean\", \"angular\"]:\n",
        "        p = 2\n",
        "    elif metric == \"manhattan\":\n",
        "        p = 1\n",
        "    else:\n",
        "        raise NotImplementedError(f\"The '{metric}' distance is not supported.\")\n",
        "\n",
        "    KNN_meth = NearestNeighbors(n_neighbors=K, algorithm=algorithm, p=p, n_jobs=-1)\n",
        "\n",
        "    def fit(x_train):\n",
        "        # Setup the K-NN estimator:\n",
        "        start = timer()\n",
        "        KNN_fun = KNN_meth.fit(x_train).kneighbors\n",
        "        elapsed = timer() - start\n",
        "\n",
        "        def f(x_test):\n",
        "            start = timer()\n",
        "            distances, indices = KNN_fun(x_test)\n",
        "            elapsed = timer() - start\n",
        "\n",
        "            return indices, elapsed\n",
        "\n",
        "        return f, elapsed\n",
        "\n",
        "    return fit\n",
        "\n",
        "\n",
        "KNN_sklearn_auto = partial(KNN_sklearn, algorithm=\"auto\")\n",
        "KNN_sklearn_ball_tree = partial(KNN_sklearn, algorithm=\"ball_tree\")\n",
        "KNN_sklearn_kd_tree = partial(KNN_sklearn, algorithm=\"kd_tree\")\n",
        "KNN_sklearn_brute = partial(KNN_sklearn, algorithm=\"brute\")"
      ]
    },
    {
      "cell_type": "markdown",
      "metadata": {
        "id": "3wp_laTWtnua"
      },
      "source": [
        "## FAISS approximate and brute-force methods\n",
        "\n",
        "Finally, we include run times for the reference FAISS library:\n",
        "out of the many (excellent) packages that are showcased on the\n",
        "[ANN-benchmarks website](http://ann-benchmarks.com)_,\n",
        "it is probably the most popular option and the package that provides the\n",
        "best GPU support.\n",
        "\n",
        "A first baseline method is given by the\n",
        "Hierarchical Navigable Small World graphs algorithm (**HNSW**), on the **CPU**.\n",
        "Note that the reference implementation provided by the\n",
        "[Non-Metric Space Library](https://github.com/nmslib/nmslib)\n",
        "would probably be even more efficient.\n",
        "\n",
        "\n"
      ]
    },
    {
      "cell_type": "code",
      "source": [
        "!pip install faiss"
      ],
      "metadata": {
        "colab": {
          "base_uri": "https://localhost:8080/"
        },
        "id": "lRiut6ce1sKE",
        "outputId": "d67f4b7d-fada-4cc4-f1a9-229a8f024c30"
      },
      "execution_count": 17,
      "outputs": [
        {
          "output_type": "stream",
          "name": "stdout",
          "text": [
            "\u001b[31mERROR: Could not find a version that satisfies the requirement faiss (from versions: none)\u001b[0m\u001b[31m\n",
            "\u001b[0m\u001b[31mERROR: No matching distribution found for faiss\u001b[0m\u001b[31m\n",
            "\u001b[0m"
          ]
        }
      ]
    },
    {
      "cell_type": "code",
      "execution_count": 16,
      "metadata": {
        "colab": {
          "base_uri": "https://localhost:8080/",
          "height": 397
        },
        "id": "GWZIo_T9tnua",
        "outputId": "caff1680-5c77-4f04-e966-2275ad217381"
      },
      "outputs": [
        {
          "output_type": "error",
          "ename": "ModuleNotFoundError",
          "evalue": "No module named 'faiss'",
          "traceback": [
            "\u001b[0;31m---------------------------------------------------------------------------\u001b[0m",
            "\u001b[0;31mModuleNotFoundError\u001b[0m                       Traceback (most recent call last)",
            "\u001b[0;32m<ipython-input-16-21507d9602af>\u001b[0m in \u001b[0;36m<cell line: 0>\u001b[0;34m()\u001b[0m\n\u001b[0;32m----> 1\u001b[0;31m \u001b[0;32mimport\u001b[0m \u001b[0mfaiss\u001b[0m\u001b[0;34m\u001b[0m\u001b[0;34m\u001b[0m\u001b[0m\n\u001b[0m\u001b[1;32m      2\u001b[0m \u001b[0;34m\u001b[0m\u001b[0m\n\u001b[1;32m      3\u001b[0m \u001b[0;34m\u001b[0m\u001b[0m\n\u001b[1;32m      4\u001b[0m \u001b[0;32mdef\u001b[0m \u001b[0mKNN_faiss_HNSW\u001b[0m\u001b[0;34m(\u001b[0m\u001b[0mK\u001b[0m\u001b[0;34m,\u001b[0m \u001b[0mmetric\u001b[0m\u001b[0;34m=\u001b[0m\u001b[0;34m\"euclidean\"\u001b[0m\u001b[0;34m,\u001b[0m \u001b[0mM\u001b[0m\u001b[0;34m=\u001b[0m\u001b[0;36m36\u001b[0m\u001b[0;34m,\u001b[0m \u001b[0;34m**\u001b[0m\u001b[0mkwargs\u001b[0m\u001b[0;34m)\u001b[0m\u001b[0;34m:\u001b[0m\u001b[0;34m\u001b[0m\u001b[0;34m\u001b[0m\u001b[0m\n\u001b[1;32m      5\u001b[0m     \u001b[0;32mdef\u001b[0m \u001b[0mfit\u001b[0m\u001b[0;34m(\u001b[0m\u001b[0mx_train\u001b[0m\u001b[0;34m)\u001b[0m\u001b[0;34m:\u001b[0m\u001b[0;34m\u001b[0m\u001b[0;34m\u001b[0m\u001b[0m\n",
            "\u001b[0;31mModuleNotFoundError\u001b[0m: No module named 'faiss'",
            "",
            "\u001b[0;31m---------------------------------------------------------------------------\u001b[0;32m\nNOTE: If your import is failing due to a missing package, you can\nmanually install dependencies using either !pip or !apt.\n\nTo view examples of installing some common dependencies, click the\n\"Open Examples\" button below.\n\u001b[0;31m---------------------------------------------------------------------------\u001b[0m\n"
          ],
          "errorDetails": {
            "actions": [
              {
                "action": "open_url",
                "actionText": "Open Examples",
                "url": "/notebooks/snippets/importing_libraries.ipynb"
              }
            ]
          }
        }
      ],
      "source": [
        "import faiss\n",
        "\n",
        "\n",
        "def KNN_faiss_HNSW(K, metric=\"euclidean\", M=36, **kwargs):\n",
        "    def fit(x_train):\n",
        "        from benchmark_utils import timer\n",
        "\n",
        "        D = x_train.shape[1]\n",
        "\n",
        "        if metric in [\"euclidean\", \"angular\"]:\n",
        "            index = faiss.IndexHNSWFlat(D, M)\n",
        "            index.hnsw.efConstruction = 500\n",
        "        else:\n",
        "            raise NotImplementedError(f\"The '{metric}' distance is not supported.\")\n",
        "\n",
        "        # Pre-processing:\n",
        "        start = timer(use_torch=False)\n",
        "        index.add(x_train)\n",
        "        elapsed = timer(use_torch=False) - start\n",
        "\n",
        "        # Return an operator for actual KNN queries:\n",
        "        def f(x_test, efSearch=10):\n",
        "            faiss.ParameterSpace().set_index_parameter(index, \"efSearch\", efSearch)\n",
        "            start = timer(use_torch=False)\n",
        "            distances, indices = index.search(x_test, K)\n",
        "            elapsed = timer(use_torch=False) - start\n",
        "            return indices, elapsed\n",
        "\n",
        "        return f, elapsed\n",
        "\n",
        "    return fit"
      ]
    },
    {
      "cell_type": "markdown",
      "metadata": {
        "id": "HrZRD7mbtnua"
      },
      "source": [
        "Choosing good parameter values for approximate nearest neighbors schemes\n",
        "is a non-trivial problem.\n",
        "To keep things simple, we stick to the guidelines of the\n",
        "reference [ANN-Benchmarks website](https://github.com/erikbern/ann-benchmarks/blob/cb954d1af7124c201aa2c8dfc77681e639fce586/algos.yaml#L95)_\n",
        "and consider two configurations with an **increasing level of precision**,\n",
        "but **slower run times**:\n",
        "\n",
        "\n"
      ]
    },
    {
      "cell_type": "code",
      "execution_count": null,
      "metadata": {
        "id": "Fpq64nXftnua"
      },
      "outputs": [],
      "source": [
        "KNN_faiss_HNSW_fast = partial(KNN_faiss_HNSW, M=4)\n",
        "KNN_faiss_HNSW_slow = partial(KNN_faiss_HNSW, M=36)"
      ]
    },
    {
      "cell_type": "markdown",
      "metadata": {
        "id": "VdKQyZk7tnua"
      },
      "source": [
        "We also benchmark two of the **fast GPU methods** provided by the FAISS library:\n",
        "\n",
        "- a **bruteforce \"Flat\"** method, with no parameters;\n",
        "- the **approximate \"IVF-Flat\"** method, with two main parameters (`nlist` and `nprobe`).\n",
        "\n",
        "Crucially, we do **not** benchmark the most advanced schemes\n",
        "provided by FAISS, such as the quantization-based\n",
        "**IVF-PQ** algorithm. These methods are powerful and very efficient, but come with many\n",
        "caveats and parameters to tune: we lack the expertise to\n",
        "use them properly and leave them aside for the moment.\n",
        "\n",
        "\n"
      ]
    },
    {
      "cell_type": "code",
      "execution_count": null,
      "metadata": {
        "id": "HyAtN8fytnua"
      },
      "outputs": [],
      "source": [
        "# Load FAISS on the GPU:\n",
        "# (The library pre-allocates a cache file of around ~1Gb on the device.)\n",
        "res = faiss.StandardGpuResources()\n",
        "deviceId = 0\n",
        "\n",
        "\n",
        "def KNN_faiss_gpu(\n",
        "    K,\n",
        "    metric,\n",
        "    algorithm=\"flat\",\n",
        "    nlist=8192,\n",
        "    nprobe=100,\n",
        "    m=None,\n",
        "    use_float16=False,\n",
        "    **kwargs,\n",
        "):\n",
        "    def fit(x_train):\n",
        "        D = x_train.shape[1]\n",
        "\n",
        "        co = faiss.GpuClonerOptions()\n",
        "        co.useFloat16 = use_float16\n",
        "\n",
        "        if metric in [\"euclidean\", \"angular\"]:\n",
        "            if algorithm == \"flat\":\n",
        "                index = faiss.IndexFlatL2(D)  # May be used as quantizer\n",
        "                index = faiss.index_cpu_to_gpu(res, deviceId, index, co)\n",
        "\n",
        "            elif algorithm == \"ivfflat\":\n",
        "                quantizer = faiss.IndexFlatL2(D)  # the other index\n",
        "                faiss_metric = (\n",
        "                    faiss.METRIC_L2\n",
        "                    if metric == \"euclidean\"\n",
        "                    else faiss.METRIC_INNER_PRODUCT\n",
        "                )\n",
        "                index = faiss.IndexIVFFlat(quantizer, D, nlist, faiss_metric)\n",
        "                index = faiss.index_cpu_to_gpu(res, deviceId, index, co)\n",
        "\n",
        "                assert not index.is_trained\n",
        "                index.train(x_train)  # add vectors to the index\n",
        "                assert index.is_trained\n",
        "\n",
        "        else:\n",
        "            raise NotImplementedError(f\"The '{metric}' distance is not supported.\")\n",
        "\n",
        "        # Pre-processing:\n",
        "        start = timer(use_torch=False)\n",
        "        index.add(x_train)\n",
        "        index.nprobe = nprobe\n",
        "        elapsed = timer(use_torch=False) - start\n",
        "\n",
        "        # Return an operator for actual KNN queries:\n",
        "        def f(x_test):\n",
        "            start = timer(use_torch=False)\n",
        "            distances, indices = index.search(x_test, K)\n",
        "            elapsed = timer(use_torch=False) - start\n",
        "            return indices, elapsed\n",
        "\n",
        "        return f, elapsed\n",
        "\n",
        "    return fit"
      ]
    },
    {
      "cell_type": "markdown",
      "metadata": {
        "id": "7f3ajzuRtnub"
      },
      "source": [
        "Using the FAISS-Flat bruteforce routines is straightforward:\n",
        "\n",
        "\n"
      ]
    },
    {
      "cell_type": "code",
      "execution_count": null,
      "metadata": {
        "id": "zWXR3XgAtnub"
      },
      "outputs": [],
      "source": [
        "KNN_faiss_gpu_Flat = partial(KNN_faiss_gpu, algorithm=\"flat\")"
      ]
    },
    {
      "cell_type": "markdown",
      "metadata": {
        "id": "56mfFhLXtnub"
      },
      "source": [
        "On the other hand, the FAISS-IVF-Flat method is a bit more complex.\n",
        "Just as we did for the HNSW algorithm, we rely on the\n",
        "[ANN-Benchmarks guidelines](https://github.com/erikbern/ann-benchmarks/blob/cb954d1af7124c201aa2c8dfc77681e639fce586/algos.yaml#L50)\n",
        "and define two routines with **increasing levels of precision**:\n",
        "\n"
      ]
    },
    {
      "cell_type": "code",
      "execution_count": null,
      "metadata": {
        "id": "LAyZWQz9tnub"
      },
      "outputs": [],
      "source": [
        "KNN_faiss_gpu_IVFFlat_fast = partial(\n",
        "    KNN_faiss_gpu, algorithm=\"ivfflat\", nlist=400, nprobe=1\n",
        ")\n",
        "KNN_faiss_gpu_IVFFlat_slow = partial(\n",
        "    KNN_faiss_gpu, algorithm=\"ivfflat\", nlist=4096, nprobe=40\n",
        ")"
      ]
    },
    {
      "cell_type": "markdown",
      "metadata": {
        "id": "eFifg9ujtnuc"
      },
      "source": [
        "## Benchmark parameters\n",
        "\n",
        "Finally, we compare all our methods through a unified interface.\n",
        "\n",
        "<div class=\"alert alert-info\"><h4>Note</h4><p>Fitting KeOps, JAX, PyTorch and FAISS in a single script is not easy:\n",
        "  all these libraries have different failure modes,\n",
        "  with some of the C++ errors thrown by JAX and FAISS being\n",
        "  very hard to \"catch\" in a proper Python structure.\n",
        "  To keep things simple, we use environment variables\n",
        "  to make a few \"pre-compilation runs\" prior to the\n",
        "  final benchmark that is rendered on this website.</p></div>\n",
        "\n"
      ]
    },
    {
      "cell_type": "code",
      "execution_count": 23,
      "metadata": {
        "id": "Dzd8ZBTWtnuc"
      },
      "outputs": [],
      "source": [
        "import os\n",
        "\n",
        "getenv = lambda s: bool(os.getenv(s, \"False\").lower() in [\"true\", \"1\"])\n",
        "\n",
        "keops_only = getenv(\"KEOPS_DOC_PRECOMPILE\")\n",
        "jax_only = getenv(\"KEOPS_DOC_PRECOMPILE_JAX\")\n",
        "\n",
        "\n",
        "def run_KNN_benchmark(name, loops=[1]):\n",
        "    # Load the dataset and some info:\n",
        "    dataset = generate_samples(name)(1)\n",
        "    N_train, dimension = dataset[\"train\"].shape\n",
        "    N_test, _ = dataset[\"test\"].shape\n",
        "    metric = dataset[\"metric\"]\n",
        "\n",
        "    # Routines to benchmark:\n",
        "    if keops_only:\n",
        "        routines = [(KNN_KeOps, \"KeOps (GPU)\", {})]\n",
        "    elif jax_only:\n",
        "        routines = [(KNN_JAX_batch_loop, \"JAX (small batches, GPU)\", {})]\n",
        "    else:\n",
        "        routines = [\n",
        "            (KNN_KeOps, \"KeOps (GPU)\", {}),\n",
        "            #(KNN_faiss_gpu_Flat, \"FAISS-Flat (GPU)\", {}),\n",
        "            #(KNN_faiss_gpu_IVFFlat_fast, \"FAISS-IVF-Flat (GPU, nprobe=1)\", {}),\n",
        "            #(KNN_faiss_gpu_IVFFlat_slow, \"FAISS-IVF-Flat (GPU, nprobe=40)\", {}),\n",
        "            (KNN_torch, \"PyTorch (GPU)\", {}),\n",
        "            (KNN_torch_batch_loop, \"PyTorch  (small batches, GPU)\", {}),\n",
        "            (KNN_JAX_batch_loop, \"JAX (small batches, GPU)\", {}),\n",
        "            #(KNN_faiss_HNSW_fast, \"FAISS-HNSW (CPU, M=4)\", {}),\n",
        "            #(KNN_faiss_HNSW_slow, \"FAISS-HNSW (CPU, M=36)\", {}),\n",
        "            (KNN_sklearn_ball_tree, \"sklearn, Ball-tree (CPU)\", {}),\n",
        "            (KNN_sklearn_kd_tree, \"sklearn, KD-tree (CPU)\", {}),\n",
        "            # (KNN_sklearn_brute, \"sklearn, bruteforce (CPU)\", {}),\n",
        "        ]\n",
        "\n",
        "    # Actual run:\n",
        "    full_benchmark(\n",
        "        f\"K-NN search on {name}: {N_test:,} queries on a dataset of {N_train:,} points\\nin dimension {dimension:,} with a {metric} metric.\",\n",
        "        routines,\n",
        "        generate_samples(name),\n",
        "        min_time=1e-4,\n",
        "        max_time=1 if (keops_only or jax_only) else 10,\n",
        "        loops=loops,\n",
        "        problem_sizes=Ks,\n",
        "        xlabel=\"Number of neighbours K\",\n",
        "        frequency=True,\n",
        "        ylabel=\"Queries per second (Hz = 1/s)\",\n",
        "        legend_location=\"upper right\",\n",
        "        linestyles=[\n",
        "            \"o-\",\n",
        "            \"s-\",\n",
        "            \"^:\",\n",
        "            \"<:\",\n",
        "            \"v-\",\n",
        "            \"x-\",\n",
        "            \"+-\",\n",
        "            \"*--\",\n",
        "            \"p--\",\n",
        "            \"s-.\",\n",
        "            \"^-.\",\n",
        "            # \"<-.\",\n",
        "        ],\n",
        "    )"
      ]
    },
    {
      "cell_type": "markdown",
      "metadata": {
        "id": "pk00MGuDtnuc"
      },
      "source": [
        "## Random samples in a Euclidean space\n",
        "\n",
        "Small dataset of **10k points in dimension 3**, as is typical in\n",
        "e.g. **shape analysis** and point cloud processing.\n",
        "In this scenario, bruteforce approaches are most efficient:\n",
        "**KeOps slightly edges FAISS-Flat**, with both methods out-performing\n",
        "other routines by **an order of magnitude**.\n",
        "Note that the HNSW, IVF-Flat and scikit-learn functions\n",
        "incur a significant \"training\" pre-processing time,\n",
        "detailed below the curves.\n",
        "\n",
        "\n"
      ]
    },
    {
      "cell_type": "code",
      "execution_count": 24,
      "metadata": {
        "colab": {
          "base_uri": "https://localhost:8080/",
          "height": 1000
        },
        "id": "gzzA0M-Ztnud",
        "outputId": "8b50afd7-bfe6-4061-be4b-08ba494a5308"
      },
      "outputs": [
        {
          "output_type": "stream",
          "name": "stdout",
          "text": [
            "Benchmarking : K-NN search on R^D a: 10,000 queries on a dataset of 10,000 points\n",
            "in dimension 3 with a euclidean metric. ===============================\n",
            "KeOps (GPU) -------------\n",
            "  1x 10 loops of size    1 : train =   1x 10x  59.9 µs, test  =   1x 10x 836.6 µs, recall = 100%\n",
            "[KeOps] Generating code for ArgKMin_Reduction reduction (with parameters 0) of formula Sum((a-b)**2) with a=Var(0,3,0), b=Var(1,3,1) ... OK\n",
            "  1x 10 loops of size   10 : train =   1x 10x  48.4 µs, test  =   1x 10x   1.7 ms, recall = 100%\n",
            "[KeOps] Generating code for ArgKMin_Reduction reduction (with parameters 0) of formula Sum((a-b)**2) with a=Var(0,3,0), b=Var(1,3,1) ... OK\n",
            "  1x 10 loops of size   50 : train =   1x 10x  54.2 µs, test  =   1x 10x  13.4 ms, recall = 100%\n",
            "[KeOps] Generating code for ArgKMin_Reduction reduction (with parameters 0) of formula Sum((a-b)**2) with a=Var(0,3,0), b=Var(1,3,1) ... OK\n",
            "  1x 10 loops of size  100 : train =   1x 10x  46.7 µs, test  =   1x 10x 234.4 ms, recall = 100%\n",
            "PyTorch (GPU) -------------\n",
            "  1x 10 loops of size    1 : train =   1x 10x  83.8 µs, test  =   1x 10x   4.5 ms, recall = 100%\n",
            "  1x 10 loops of size   10 : train =   1x 10x  63.2 µs, test  =   1x 10x   4.5 ms, recall = 100%\n",
            "  1x 10 loops of size   50 : train =   1x 10x  63.4 µs, test  =   1x 10x   4.6 ms, recall = 100%\n",
            "  1x 10 loops of size  100 : train =   1x 10x  66.8 µs, test  =   1x 10x   4.6 ms, recall = 100%\n",
            "PyTorch  (small batches, GPU) -------------\n",
            "  1x 10 loops of size    1 : train =   1x 10x  60.1 µs, test  =   1x 10x   4.9 ms, recall = 100%\n",
            "  1x 10 loops of size   10 : train =   1x 10x  58.6 µs, test  =   1x 10x   4.9 ms, recall = 100%\n",
            "  1x 10 loops of size   50 : train =   1x 10x  59.5 µs, test  =   1x 10x   5.0 ms, recall = 100%\n",
            "  1x 10 loops of size  100 : train =   1x 10x  62.8 µs, test  =   1x 10x   5.1 ms, recall = 100%\n",
            "JAX (small batches, GPU) -------------\n",
            "  1x 10 loops of size    1 : train =   1x 10x 228.2 µs, test  =   1x 10x   2.9 ms, recall =  96%\n",
            "  1x 10 loops of size   10 : train =   1x 10x 269.7 µs, test  =   1x 10x  45.5 ms, recall =  99%\n",
            "  1x 10 loops of size   50 : train =   1x 10x 205.4 µs, test  =   1x 10x  25.6 ms, recall = 100%\n",
            "  1x 10 loops of size  100 : train =   1x 10x 238.7 µs, test  =   1x 10x  23.9 ms, recall = 100%\n",
            "sklearn, Ball-tree (CPU) -------------\n",
            "  1x 10 loops of size    1 : train =   1x 10x   4.4 ms, test  =   1x 10x 481.6 ms, recall = 100%\n",
            "  1x  1 loops of size   10 : train =   1x  1x   4.9 ms, test  =   1x  1x 599.0 ms, recall = 100%\n",
            "  1x  1 loops of size   50 : train =   1x  1x   4.6 ms, test  =   1x  1x 406.2 ms, recall = 100%\n",
            "  1x  1 loops of size  100 : train =   1x  1x   4.6 ms, test  =   1x  1x 943.9 ms, recall = 100%\n",
            "sklearn, KD-tree (CPU) -------------\n",
            "  1x 10 loops of size    1 : train =   1x 10x   4.8 ms, test  =   1x 10x  34.5 ms, recall = 100%\n",
            "  1x 10 loops of size   10 : train =   1x 10x   4.8 ms, test  =   1x 10x  67.2 ms, recall = 100%\n",
            "  1x 10 loops of size   50 : train =   1x 10x   4.9 ms, test  =   1x 10x 147.1 ms, recall = 100%\n",
            "  1x 10 loops of size  100 : train =   1x 10x   4.8 ms, test  =   1x 10x 153.7 ms, recall = 100%\n"
          ]
        },
        {
          "output_type": "display_data",
          "data": {
            "text/plain": [
              "<Figure size 1200x800 with 1 Axes>"
            ],
            "image/png": "[encoded data removed]"
          },
          "metadata": {}
        }
      ],
      "source": [
        "run_KNN_benchmark(\"R^D a\", loops=[10, 1])"
      ]
    },
    {
      "cell_type": "markdown",
      "metadata": {
        "id": "T6nXeuDatnud"
      },
      "source": [
        "Large dataset of **1M points in dimension 3**, as is typical\n",
        "in **computer graphics**.\n",
        "In this setting, taking some time to create a multiscale\n",
        "index of the input dataset can be worthwhile:\n",
        "the IVF-Flat and HNSW methods provide **faster queries** at the cost\n",
        "of significant **pre-processing times**.\n",
        "Among \"on-the-fly\" bruteforce methods, KeOps edges\n",
        "the FAISS-Flat routine and is the most competitive option.\n",
        "\n"
      ]
    },
    {
      "cell_type": "code",
      "execution_count": null,
      "metadata": {
        "colab": {
          "base_uri": "https://localhost:8080/"
        },
        "id": "SJRqEyiQtnud",
        "outputId": "f29f69dc-306f-455e-e216-4ed4e32ce7ae"
      },
      "outputs": [
        {
          "output_type": "stream",
          "name": "stdout",
          "text": [
            "Benchmarking : K-NN search on R^D b: 10,000 queries on a dataset of 1,000,000 points\n",
            "in dimension 3 with a euclidean metric. ===============================\n",
            "KeOps (GPU) -------------\n",
            "  1x  1 loops of size    1 : train =   1x  1x 102.2 µs, test  =   1x  1x  37.8 ms, recall = 100%\n"
          ]
        }
      ],
      "source": [
        "run_KNN_benchmark(\"R^D b\")"
      ]
    },
    {
      "cell_type": "markdown",
      "metadata": {
        "id": "Q-uIr6QCtnud"
      },
      "source": [
        "Large dataset of **1M points in dimension 10**,\n",
        "as can be typical in **low-dimensional machine learning**.\n",
        "In this setting, approximate strategies such as the IVF-Flat method\n",
        "are **most competitive** - and we would expect the IVF-PQ routines to perform\n",
        "even better!\n",
        "\n",
        "<div class=\"alert alert-info\"><h4>Note</h4><p>We don't display CPU-based methods with pre-processing\n",
        "  times longer than 60s, but stress that these routines can\n",
        "  provide excellent performances in \"offline\" scenarios.</p></div>\n",
        "\n"
      ]
    },
    {
      "cell_type": "code",
      "execution_count": null,
      "metadata": {
        "id": "2NOyvhqLtnud"
      },
      "outputs": [],
      "source": [
        "run_KNN_benchmark(\"R^D c\")"
      ]
    },
    {
      "cell_type": "markdown",
      "metadata": {
        "id": "Qqd7qygEtnun"
      },
      "source": [
        "Large dataset of **1M points in dimension 100**,\n",
        "with **random Gaussian samples**.\n",
        "Crucially, when the dataset is high-dimensional and has\n",
        "little to no geometric structure, **bruteforce methods become relevant once again**:\n",
        "FAISS-Flat and KeOps provide the only two reasonable run times.\n",
        "As detailed in [our high-dimensional benchmarks](plot_benchmark_high_dimension.html),\n",
        "the cuBLAS-based routines of FAISS edge our KeOps implementation\n",
        "when the dimension of the ambient space D exceeds 50-100.\n",
        "\n",
        "One of our top priorities for early 2021 is to close this gap\n",
        "with improved CUDA schemes. Adding support for\n",
        "some of the new hardware features of Ampere GPUs (Tensor cores,\n",
        "quantized numerical types, etc.) should also help\n",
        "to improve performances across the board.\n",
        "\n"
      ]
    },
    {
      "cell_type": "code",
      "execution_count": null,
      "metadata": {
        "id": "--4Sev4itnun"
      },
      "outputs": [],
      "source": [
        "run_KNN_benchmark(\"R^D d\")"
      ]
    },
    {
      "cell_type": "markdown",
      "metadata": {
        "id": "QxCX7jP6tnun"
      },
      "source": [
        "## Random samples in other spaces\n",
        "\n",
        "**Cosine similarity metric with 1M points in dimension 10**,\n",
        "as can be typical in low-dimensional machine learning.\n",
        "This metric is generally well-supported by standard libraries:\n",
        "using efficient matrix-matrix products,\n",
        "it is even easier to implement than the squared Euclidean distance.\n",
        "\n",
        "Unsurprisingly, run times follow closely the trends\n",
        "of the previous examples.\n",
        "In dimension 10, approximate IVF-like strategies provide\n",
        "the largest amount of queries per second.\n",
        "KeOps remains competitive among bruteforce methods,\n",
        "without any pre-processing time.\n",
        "\n"
      ]
    },
    {
      "cell_type": "code",
      "execution_count": null,
      "metadata": {
        "id": "E1siXYNctnun"
      },
      "outputs": [],
      "source": [
        "run_KNN_benchmark(\"S^{D-1}\")"
      ]
    },
    {
      "cell_type": "markdown",
      "metadata": {
        "id": "gUGgGV6Xtnun"
      },
      "source": [
        "The picture changes completely\n",
        "once we start working with less common formulas\n",
        "such as the **Manhattan-L1 metric**.\n",
        "In this scenario, neither cuBLAS nor FAISS can be used and\n",
        "KeOps remain the only competitive library for K-NN search on the GPU.\n",
        "This is true with **1M points in dimension 10**:\n",
        "\n",
        "\n"
      ]
    },
    {
      "cell_type": "code",
      "execution_count": null,
      "metadata": {
        "id": "XziAeA3Otnun"
      },
      "outputs": [],
      "source": [
        "run_KNN_benchmark(\"R^D f\")"
      ]
    },
    {
      "cell_type": "markdown",
      "metadata": {
        "id": "LhT5kpmLtnuo"
      },
      "source": [
        "**1M point in dimension 100**, or any other dataset:\n",
        "\n"
      ]
    },
    {
      "cell_type": "code",
      "execution_count": null,
      "metadata": {
        "id": "95coYnb1tnuo"
      },
      "outputs": [],
      "source": [
        "run_KNN_benchmark(\"R^D g\")"
      ]
    },
    {
      "cell_type": "markdown",
      "metadata": {
        "id": "pc3m8bQRtnuo"
      },
      "source": [
        "The same lesson holds in e.g. hyperbolic spaces.\n",
        "In the example below, we perform K-NN queries\n",
        "for the hyperbolic metric with **1M points in the Poincare half-plane of dimension 10**.\n",
        "The run times for KeOps remain in line with the \"Euclidean\" benchmarks\n",
        "and **orders of magnitude faster** than standard PyTorch and JAX implementations.\n",
        "\n"
      ]
    },
    {
      "cell_type": "code",
      "execution_count": null,
      "metadata": {
        "id": "GwYvQfuDtnuo"
      },
      "outputs": [],
      "source": [
        "run_KNN_benchmark(\"H^D\")"
      ]
    },
    {
      "cell_type": "markdown",
      "metadata": {
        "id": "gIolUrXLtnuo"
      },
      "source": [
        "## Standard datasets\n",
        "\n",
        "The benchmarks above were all performed on random Gaussian samples.\n",
        "These results provide an informative baseline...\n",
        "But in practice, most real-life datasets present a\n",
        "**geometric structure** that can be leveraged by clever algorithms.\n",
        "To measure the performances of bruteforce and IVF-like methods in\n",
        "\"realistic\" machine learning scenarios, we now benchmark\n",
        "our routines on several [standard datasets](https://ann-benchmarks.com).\n",
        "\n",
        "First of all, on the well-known **MNIST collection of handwritten digits**:\n",
        "a collection of 60k 28-by-28 images, encoded as vectors\n",
        "of dimension 784 and endowed with the **Euclidean metric**.\n",
        "This dataset is relatively **small** (less than 100k training samples)\n",
        "but **high-dimensional** (D > 50) and highly **clustered** around\n",
        "a dozen of prototypes (the digits 0, 1, ..., 9 and their variants).\n",
        "Unsurprisingly, it is handled much more efficiently by the FAISS routines\n",
        "than by our bruteforce KeOps implementation.\n",
        "\n",
        "\n"
      ]
    },
    {
      "cell_type": "code",
      "execution_count": null,
      "metadata": {
        "id": "Me4Sayxttnuo"
      },
      "outputs": [],
      "source": [
        "run_KNN_benchmark(\"MNIST a\")"
      ]
    },
    {
      "cell_type": "markdown",
      "metadata": {
        "id": "w1It9jXytnup"
      },
      "source": [
        "Note, however, that KeOps remains the only viable option\n",
        "to work easily with less common metrics such as the Manhattan-L1 norm:\n",
        "\n"
      ]
    },
    {
      "cell_type": "code",
      "execution_count": null,
      "metadata": {
        "id": "sQU05qPItnup"
      },
      "outputs": [],
      "source": [
        "run_KNN_benchmark(\"MNIST b\")"
      ]
    },
    {
      "cell_type": "markdown",
      "metadata": {
        "id": "FTEGNry4tnup"
      },
      "source": [
        "To conclude this benchmark, we evaluate our routines\n",
        "on the [GloVe word embeddings](https://nlp.stanford.edu/projects/glove/)\n",
        "for natural language processing:\n",
        "**1.2M words**, represented as vectors of **dimension 25-100** and\n",
        "compared with each other using the **cosine similarity metric**.\n",
        "\n",
        "In dimension 25, KeOps performs on par with the FAISS-Flat bruteforce\n",
        "routines. Both methods are slower than IVF-like algorithms\n",
        "in terms of queries per second:\n",
        "\n"
      ]
    },
    {
      "cell_type": "code",
      "execution_count": null,
      "metadata": {
        "id": "Ln5AM4l8tnup"
      },
      "outputs": [],
      "source": [
        "run_KNN_benchmark(\"GloVe25\")"
      ]
    },
    {
      "cell_type": "markdown",
      "metadata": {
        "id": "Nob3kNeKtnup"
      },
      "source": [
        "In dimension 100, the pre-processing times associated\n",
        "to IVF-like methods increase significantly while\n",
        "the FAISS-Flat routine edges the KeOps engine\n",
        "by a sizeable margin:\n",
        "\n"
      ]
    },
    {
      "cell_type": "code",
      "execution_count": null,
      "metadata": {
        "id": "mEr3O_yktnup"
      },
      "outputs": [],
      "source": [
        "run_KNN_benchmark(\"GloVe100\")\n",
        "\n",
        "plt.show()"
      ]
    }
  ],
  "metadata": {
    "kernelspec": {
      "display_name": "Python 3",
      "name": "python3"
    },
    "language_info": {
      "codemirror_mode": {
        "name": "ipython",
        "version": 3
      },
      "file_extension": ".py",
      "mimetype": "text/x-python",
      "name": "python",
      "nbconvert_exporter": "python",
      "pygments_lexer": "ipython3",
      "version": "3.11.7"
    },
    "colab": {
      "provenance": [],
      "machine_shape": "hm",
      "gpuType": "A100",
      "include_colab_link": true
    },
    "accelerator": "GPU"
  },
  "nbformat": 4,
  "nbformat_minor": 0
}